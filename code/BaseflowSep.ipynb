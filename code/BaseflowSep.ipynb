{
 "cells": [
  {
   "cell_type": "code",
   "execution_count": 1,
   "id": "b742ba17",
   "metadata": {},
   "outputs": [
    {
     "name": "stderr",
     "output_type": "stream",
     "text": [
      "R[write to console]: Loading required package: operators\n",
      "\n",
      "R[write to console]: \n",
      "Attaching package: ‘operators’\n",
      "\n",
      "\n",
      "R[write to console]: The following objects are masked from ‘package:base’:\n",
      "\n",
      "    options, strrep\n",
      "\n",
      "\n",
      "R[write to console]: Loading required package: topmodel\n",
      "\n",
      "R[write to console]: Loading required package: DEoptim\n",
      "\n",
      "R[write to console]: Loading required package: parallel\n",
      "\n",
      "R[write to console]: \n",
      "DEoptim package\n",
      "Differential Evolution algorithm in R\n",
      "Authors: D. Ardia, K. Mullen, B. Peterson and J. Ulrich\n",
      "\n",
      "\n",
      "R[write to console]: Loading required package: XML\n",
      "\n",
      "R[write to console]: \n",
      "Attaching package: ‘XML’\n",
      "\n",
      "\n",
      "R[write to console]: The following object is masked from ‘package:tools’:\n",
      "\n",
      "    toHTML\n",
      "\n",
      "\n"
     ]
    },
    {
     "data": {
      "text/html": [
       "\n",
       "        <span>ListVector with 2 elements.</span>\n",
       "        <table>\n",
       "        <tbody>\n",
       "        \n",
       "          <tr>\n",
       "            <th>\n",
       "            value\n",
       "            </th>\n",
       "            <td>\n",
       "            <rpy2.rinterface.SexpClosure object at 0x7f9b86eb70c0> [RTYPES.CLOSXP]\n",
       "            </td>\n",
       "          </tr>\n",
       "        \n",
       "          <tr>\n",
       "            <th>\n",
       "            visible\n",
       "            </th>\n",
       "            <td>\n",
       "            <rpy2.rinterface.BoolSexpVector object at 0x7f9b86ea9740> [RTYPES.LGLSXP]\n",
       "            </td>\n",
       "          </tr>\n",
       "        \n",
       "        </tbody>\n",
       "        </table>\n",
       "        "
      ],
      "text/plain": [
       "<rpy2.robjects.vectors.ListVector object at 0x7f9b86ea9880> [RTYPES.VECSXP]\n",
       "R classes: ('list',)\n",
       "[SexpClosure, BoolSexpVector]\n",
       "  value: <class 'rpy2.rinterface.SexpClosure'>\n",
       "  <rpy2.rinterface.SexpClosure object at 0x7f9b86eb7ac0> [RTYPES.CLOSXP]\n",
       "  visible: <class 'rpy2.rinterface.BoolSexpVector'>\n",
       "  <rpy2.rinterface.BoolSexpVector object at 0x7f9b86eb7440> [RTYPES.LGLSXP]"
      ]
     },
     "execution_count": 1,
     "metadata": {},
     "output_type": "execute_result"
    }
   ],
   "source": [
    "import pandas as pd\n",
    "import matplotlib.pyplot as plt\n",
    "import rpy2.robjects as ro\n",
    "from rpy2.robjects import pandas2ri\n",
    "from rpy2.robjects.conversion import localconverter\n",
    "\n",
    "# Defining the R script and loading the instance in Python\n",
    "\n",
    "r = ro.r\n",
    "r['source']('baseflow_sep.R')"
   ]
  },
  {
   "cell_type": "code",
   "execution_count": 2,
   "id": "45369df1",
   "metadata": {},
   "outputs": [],
   "source": [
    "# Loading the function we have defined in R.\n",
    "baseflow_sep = ro.globalenv['get_baseflow']\n",
    "\n",
    "# Reading and processing data\n",
    "df = pd.read_csv(\"../data/CDEC/runoff.csv\")#.set_index('date')\n",
    "df.index = pd.to_datetime(df['date'])\n",
    "# df = pd.DataFrame(df['SHA'], index = df.index).interpolate(how = 'linear')\n",
    "\n",
    "# Select the column here \n",
    "with localconverter(ro.default_converter + pandas2ri.converter):\n",
    "    r_pd_df = ro.conversion.py2rpy(df['SCC'])"
   ]
  },
  {
   "cell_type": "code",
   "execution_count": 3,
   "id": "242597b6",
   "metadata": {},
   "outputs": [],
   "source": [
    "# Call the R function and getting the result\n",
    "runoff_df = baseflow_sep(r_pd_df)"
   ]
  },
  {
   "cell_type": "code",
   "execution_count": 4,
   "id": "3ba4fa29",
   "metadata": {},
   "outputs": [
    {
     "data": {
      "text/html": [
       "<div>\n",
       "<style scoped>\n",
       "    .dataframe tbody tr th:only-of-type {\n",
       "        vertical-align: middle;\n",
       "    }\n",
       "\n",
       "    .dataframe tbody tr th {\n",
       "        vertical-align: top;\n",
       "    }\n",
       "\n",
       "    .dataframe thead th {\n",
       "        text-align: right;\n",
       "    }\n",
       "</style>\n",
       "<table border=\"1\" class=\"dataframe\">\n",
       "  <thead>\n",
       "    <tr style=\"text-align: right;\">\n",
       "      <th></th>\n",
       "      <th>bt</th>\n",
       "      <th>qft</th>\n",
       "    </tr>\n",
       "    <tr>\n",
       "      <th>date</th>\n",
       "      <th></th>\n",
       "      <th></th>\n",
       "    </tr>\n",
       "  </thead>\n",
       "  <tbody>\n",
       "    <tr>\n",
       "      <th>2003-10-01</th>\n",
       "      <td>0.005174</td>\n",
       "      <td>0.003984</td>\n",
       "    </tr>\n",
       "    <tr>\n",
       "      <th>2003-10-02</th>\n",
       "      <td>0.002070</td>\n",
       "      <td>0.000000</td>\n",
       "    </tr>\n",
       "    <tr>\n",
       "      <th>2003-10-03</th>\n",
       "      <td>0.002073</td>\n",
       "      <td>0.004137</td>\n",
       "    </tr>\n",
       "    <tr>\n",
       "      <th>2003-10-04</th>\n",
       "      <td>0.002078</td>\n",
       "      <td>0.002062</td>\n",
       "    </tr>\n",
       "    <tr>\n",
       "      <th>2003-10-05</th>\n",
       "      <td>0.002080</td>\n",
       "      <td>0.006199</td>\n",
       "    </tr>\n",
       "  </tbody>\n",
       "</table>\n",
       "</div>"
      ],
      "text/plain": [
       "                  bt       qft\n",
       "date                          \n",
       "2003-10-01  0.005174  0.003984\n",
       "2003-10-02  0.002070  0.000000\n",
       "2003-10-03  0.002073  0.004137\n",
       "2003-10-04  0.002078  0.002062\n",
       "2003-10-05  0.002080  0.006199"
      ]
     },
     "execution_count": 4,
     "metadata": {},
     "output_type": "execute_result"
    }
   ],
   "source": [
    "# Converting it back to a pandas dataframe.\n",
    "with localconverter(ro.default_converter + pandas2ri.converter):\n",
    "    outdf = ro.conversion.rpy2py(runoff_df)\n",
    "\n",
    "outdf.index = df.index\n",
    "outdf.head()"
   ]
  },
  {
   "cell_type": "code",
   "execution_count": 5,
   "id": "0c528efa",
   "metadata": {},
   "outputs": [
    {
     "data": {
      "text/plain": [
       "[<matplotlib.lines.Line2D at 0x7f9b88949220>]"
      ]
     },
     "execution_count": 5,
     "metadata": {},
     "output_type": "execute_result"
    },
    {
     "data": {
      "image/png": "[encoded data removed]",
      "text/plain": [
       "<Figure size 1008x360 with 1 Axes>"
      ]
     },
     "metadata": {
      "needs_background": "light"
     },
     "output_type": "display_data"
    }
   ],
   "source": [
    "\n",
    "plt.figure(figsize =(14,5))\n",
    "plt.plot(outdf.index, outdf['bt'], marker = \"o\", markersize = 1, alpha = 0.5)\n",
    "plt.plot(outdf.index, outdf['bt'] + outdf['qft'],  markersize = 1, alpha = 0.5)"
   ]
  }
 ],
 "metadata": {
  "kernelspec": {
   "display_name": "Python 3",
   "language": "python",
   "name": "python3"
  },
  "language_info": {
   "codemirror_mode": {
    "name": "ipython",
    "version": 3
   },
   "file_extension": ".py",
   "mimetype": "text/x-python",
   "name": "python",
   "nbconvert_exporter": "python",
   "pygments_lexer": "ipython3",
   "version": "3.8.10"
  }
 },
 "nbformat": 4,
 "nbformat_minor": 5
}
